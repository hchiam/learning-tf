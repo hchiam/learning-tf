{
  "nbformat": 4,
  "nbformat_minor": 0,
  "metadata": {
    "colab": {
      "provenance": []
    },
    "kernelspec": {
      "name": "python3",
      "display_name": "Python 3"
    },
    "language_info": {
      "name": "python"
    }
  },
  "cells": [
    {
      "cell_type": "code",
      "execution_count": null,
      "metadata": {
        "colab": {
          "base_uri": "https://localhost:8080/"
        },
        "id": "KX7BBuq96bKj",
        "outputId": "ebc50969-761c-4266-e044-661e533a789c"
      },
      "outputs": [
        {
          "output_type": "stream",
          "name": "stdout",
          "text": [
            "\u001b[2K     \u001b[90m━━━━━━━━━━━━━━━━━━━━━━━━━━━━━━━━━━━━━━━━\u001b[0m \u001b[32m15.3/15.3 MB\u001b[0m \u001b[31m26.6 MB/s\u001b[0m eta \u001b[36m0:00:00\u001b[0m\n",
            "\u001b[2K     \u001b[90m━━━━━━━━━━━━━━━━━━━━━━━━━━━━━━━━━━━━━━━━\u001b[0m \u001b[32m475.2/475.2 MB\u001b[0m \u001b[31m1.1 MB/s\u001b[0m eta \u001b[36m0:00:00\u001b[0m\n",
            "\u001b[2K     \u001b[90m━━━━━━━━━━━━━━━━━━━━━━━━━━━━━━━━━━━━━━━━\u001b[0m \u001b[32m5.5/5.5 MB\u001b[0m \u001b[31m101.8 MB/s\u001b[0m eta \u001b[36m0:00:00\u001b[0m\n",
            "\u001b[2K     \u001b[90m━━━━━━━━━━━━━━━━━━━━━━━━━━━━━━━━━━━━━━━━\u001b[0m \u001b[32m442.0/442.0 kB\u001b[0m \u001b[31m47.6 MB/s\u001b[0m eta \u001b[36m0:00:00\u001b[0m\n",
            "\u001b[2K     \u001b[90m━━━━━━━━━━━━━━━━━━━━━━━━━━━━━━━━━━━━━━━━\u001b[0m \u001b[32m1.7/1.7 MB\u001b[0m \u001b[31m85.0 MB/s\u001b[0m eta \u001b[36m0:00:00\u001b[0m\n",
            "\u001b[?25hUse /tmp/tmp86wolm2t as temporary training directory\n",
            "Reading training dataset...\n",
            "Training dataset read in 0:00:07.737098. Found 344 examples.\n",
            "Training model...\n",
            "Model trained in 0:00:00.434533\n",
            "Compiling model...\n",
            "Model compiled.\n"
          ]
        }
      ],
      "source": [
        "# https://www.tensorflow.org/decision_forests/tf_df_in_tf_js\n",
        "\n",
        "!pip install tensorflow_decision_forests -U -qq\n",
        "import tensorflow as tf\n",
        "import tensorflow_decision_forests as tfdf\n",
        "import pandas as pd\n",
        "\n",
        "# Download the dataset, load it into a pandas dataframe and convert it to TensorFlow format.\n",
        "!wget -q https://storage.googleapis.com/download.tensorflow.org/data/palmer_penguins/penguins.csv -O /tmp/penguins.csv\n",
        "dataset_df = pd.read_csv(\"/tmp/penguins.csv\")\n",
        "train_ds = tfdf.keras.pd_dataframe_to_tf_dataset(dataset_df, label=\"species\")\n",
        "\n",
        "# Create, train and save the model\n",
        "model_1 = tfdf.keras.GradientBoostedTreesModel()\n",
        "model_1.fit(train_ds)\n",
        "model_1.save(\"/tmp/my_saved_model\")"
      ]
    },
    {
      "cell_type": "code",
      "source": [
        "!pip install tensorflow tensorflow_decision_forests 'tensorflowjs>=4.4.0'\n",
        "\n",
        "# Prepare and load the model with TensorFlow\n",
        "import tensorflow as tf\n",
        "import tensorflow_decision_forests as tfdf\n",
        "import tensorflowjs as tfjs\n",
        "from google.colab import files\n",
        "\n",
        "# Load the model with Keras\n",
        "model = tf.keras.models.load_model(\"/tmp/my_saved_model/\")"
      ],
      "metadata": {
        "id": "vsNEn27L6yqx"
      },
      "execution_count": null,
      "outputs": []
    },
    {
      "cell_type": "code",
      "source": [
        "# This block of code from https://www.tensorflow.org/decision_forests/tf_df_in_tf_js\n",
        "# didn't seem to include assets.zip inside the unzipped tfjs_model.zip\n",
        "\n",
        "# Convert the keras model to TensorFlow.js\n",
        "tfjs.converters.tf_saved_model_conversion_v2.convert_keras_model_to_graph_model(model, \"./tfjs_model\")\n",
        "\n",
        "# Download the converted TFJS model\n",
        "!zip -r tfjs_model.zip tfjs_model/\n",
        "files.download(\"tfjs_model.zip\")"
      ],
      "metadata": {
        "id": "SoEMjOoM5q4f"
      },
      "execution_count": null,
      "outputs": []
    },
    {
      "cell_type": "code",
      "source": [
        "# remove the ./saved_model folder so you can see the new files repopulate\n",
        "!rm -rf saved_model"
      ],
      "metadata": {
        "id": "bBaoSAgp5dWg"
      },
      "execution_count": 11,
      "outputs": []
    },
    {
      "cell_type": "code",
      "source": [
        "# Save the model in the SavedModel format\n",
        "tf.saved_model.save(model, \"./saved_model\")\n",
        "\n",
        "# Convert the SavedModel to TensorFlow.js and save as a zip file\n",
        "tfjs.converters.tf_saved_model_conversion_v2.convert_tf_saved_model(\"./saved_model\", \"./tfjs_model\")\n",
        "\n",
        "# Download the converted TFJS model\n",
        "!zip -r tfjs_model.zip tfjs_model/\n",
        "files.download(\"tfjs_model.zip\")"
      ],
      "metadata": {
        "colab": {
          "base_uri": "https://localhost:8080/",
          "height": 198
        },
        "id": "e1aIF0ox2ww2",
        "outputId": "74acebec-4c94-417e-c0bb-d9c986767687"
      },
      "execution_count": 12,
      "outputs": [
        {
          "output_type": "stream",
          "name": "stderr",
          "text": [
            "WARNING:tensorflow:Issue encountered when serializing table_initializer.\n",
            "Type is unsupported, or the types of the items don't match field type in CollectionDef. Note this is a warning and probably safe to ignore.\n",
            "'NoneType' object has no attribute 'name'\n"
          ]
        },
        {
          "output_type": "stream",
          "name": "stdout",
          "text": [
            "weight StatefulPartitionedCall/gradient_boosted_trees_model/StatefulPartitionedCall/StatefulPartitionedCall/RaggedConstant/Const with shape (1,) and dtype int64 was auto converted to the type int32\n",
            "weight StatefulPartitionedCall/gradient_boosted_trees_model/StatefulPartitionedCall/StatefulPartitionedCall/RaggedConstant/Const_1 with shape (1,) and dtype int64 was auto converted to the type int32\n",
            "  adding: tfjs_model/ (stored 0%)\n",
            "  adding: tfjs_model/assets.zip (stored 0%)\n",
            "  adding: tfjs_model/model.json (deflated 93%)\n",
            "  adding: tfjs_model/group1-shard1of1.bin (deflated 34%)\n"
          ]
        },
        {
          "output_type": "display_data",
          "data": {
            "text/plain": [
              "<IPython.core.display.Javascript object>"
            ],
            "application/javascript": [
              "\n",
              "    async function download(id, filename, size) {\n",
              "      if (!google.colab.kernel.accessAllowed) {\n",
              "        return;\n",
              "      }\n",
              "      const div = document.createElement('div');\n",
              "      const label = document.createElement('label');\n",
              "      label.textContent = `Downloading \"${filename}\": `;\n",
              "      div.appendChild(label);\n",
              "      const progress = document.createElement('progress');\n",
              "      progress.max = size;\n",
              "      div.appendChild(progress);\n",
              "      document.body.appendChild(div);\n",
              "\n",
              "      const buffers = [];\n",
              "      let downloaded = 0;\n",
              "\n",
              "      const channel = await google.colab.kernel.comms.open(id);\n",
              "      // Send a message to notify the kernel that we're ready.\n",
              "      channel.send({})\n",
              "\n",
              "      for await (const message of channel.messages) {\n",
              "        // Send a message to notify the kernel that we're ready.\n",
              "        channel.send({})\n",
              "        if (message.buffers) {\n",
              "          for (const buffer of message.buffers) {\n",
              "            buffers.push(buffer);\n",
              "            downloaded += buffer.byteLength;\n",
              "            progress.value = downloaded;\n",
              "          }\n",
              "        }\n",
              "      }\n",
              "      const blob = new Blob(buffers, {type: 'application/binary'});\n",
              "      const a = document.createElement('a');\n",
              "      a.href = window.URL.createObjectURL(blob);\n",
              "      a.download = filename;\n",
              "      div.appendChild(a);\n",
              "      a.click();\n",
              "      div.remove();\n",
              "    }\n",
              "  "
            ]
          },
          "metadata": {}
        },
        {
          "output_type": "display_data",
          "data": {
            "text/plain": [
              "<IPython.core.display.Javascript object>"
            ],
            "application/javascript": [
              "download(\"download_e0d53967-f38f-41a5-a583-c9294a7205bc\", \"tfjs_model.zip\", 325637)"
            ]
          },
          "metadata": {}
        }
      ]
    }
  ]
}